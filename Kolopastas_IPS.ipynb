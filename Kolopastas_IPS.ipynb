{
  "nbformat": 4,
  "nbformat_minor": 0,
  "metadata": {
    "colab": {
      "provenance": []
    },
    "kernelspec": {
      "name": "python3",
      "display_name": "Python 3"
    },
    "language_info": {
      "name": "python"
    }
  },
  "cells": [
    {
      "cell_type": "markdown",
      "metadata": {
        "id": "view-in-github"
      },
      "source": [
        "<a href=\"https://colab.research.google.com/github/kdemertzis/EKPA/blob/main/OnlineLearning_IPS.ipynb\" target=\"_parent\"><img src=\"https://colab.research.google.com/assets/colab-badge.svg\" alt=\"Open In Colab\"/></a>"
      ]
    },
    {
      "cell_type": "code",
      "execution_count": 1,
      "metadata": {
        "id": "7X5_s25o4cIP"
      },
      "outputs": [],
      "source": [
        "#εισαγωγή βιβλιοθηκών - πακέτων\n",
        "import pandas as pd\n",
        "from sklearn.model_selection import train_test_split\n",
        "from sklearn.preprocessing import StandardScaler, OneHotEncoder\n",
        "from sklearn.ensemble import RandomForestClassifier\n",
        "from sklearn.metrics import accuracy_score, classification_report\n",
        "from imblearn.over_sampling import SMOTENC\n",
        "from imblearn.pipeline import Pipeline as ImbPipeline\n",
        "from sklearn.compose import ColumnTransformer\n",
        "import requests\n",
        "from io import BytesIO\n",
        "import numpy as np\n"
      ]
    },
    {
      "source": [
        "#κατέβασμα και αποσυμπίεση του συνόλου δεδομένων\n",
        "url = \"https://raw.githubusercontent.com/kdemertzis/EKPA/main/Data/pcap_data.csv\"\n",
        "df = pd.read_csv(url)\n",
        "X = df.drop('target', axis=1).values\n",
        "y = df['target'].values"
      ],
      "cell_type": "code",
      "metadata": {
        "id": "L6BE_3R-zna5"
      },
      "execution_count": 6,
      "outputs": []
    },
    {
      "cell_type": "code",
      "source": [
        "#δημιουργία του συνόλου σε δύο κλάσεις Normal (0) και Attack (1)\n",
        "X = df.drop(\"target\", axis=1)\n",
        "y = df[\"target\"].apply(lambda x: 1 if x == \"normal.\" else 0)"
      ],
      "metadata": {
        "id": "wLkddNFCFvDE"
      },
      "execution_count": 236,
      "outputs": []
    },
    {
      "cell_type": "code",
      "source": [
        "#έλεγχος κλάσεων\n",
        "print(\"Κατανομή κλάσεων y:\")\n",
        "print(y.value_counts())"
      ],
      "metadata": {
        "colab": {
          "base_uri": "https://localhost:8080/"
        },
        "id": "k6WAjay2FxhG",
        "outputId": "4ad2e804-577d-4714-caf9-3c50a595096b"
      },
      "execution_count": 237,
      "outputs": [
        {
          "output_type": "stream",
          "name": "stdout",
          "text": [
            "Κατανομή κλάσεων y:\n",
            "target\n",
            "0    14967\n",
            "Name: count, dtype: int64\n"
          ]
        }
      ]
    },
    {
      "cell_type": "code",
      "source": [
        "#εντοπισμός κατηγορικών μεταβλητών\n",
        "categorical_features = ['protocol_type', 'service', 'flag']"
      ],
      "metadata": {
        "id": "HuamrMd8D6jg"
      },
      "execution_count": 238,
      "outputs": []
    },
    {
      "cell_type": "code",
      "source": [
        "#διαχωρισμός κατηγορικών και αριθμητικών μεταβλητών\n",
        "numeric_features = X.columns.difference(categorical_features)"
      ],
      "metadata": {
        "id": "v7e46I8TGO6-"
      },
      "execution_count": 239,
      "outputs": []
    },
    {
      "cell_type": "code",
      "source": [
        "#δημιουργία διοχέτευσης (αγωγού) προεπεξεργασίας με κωδικοποίηση μίας δέσμης (one-hot encoding) για κατηγορικές μεταβλητές\n",
        "preprocessor = ColumnTransformer(\n",
        "    transformers=[\n",
        "        ('num', StandardScaler(), numeric_features),\n",
        "        ('cat', OneHotEncoder(handle_unknown='ignore'), categorical_features)\n",
        "    ])"
      ],
      "metadata": {
        "id": "-S33HRutGRic"
      },
      "execution_count": 240,
      "outputs": []
    },
    {
      "cell_type": "code",
      "source": [
        "#τμηματοποίηση δεδομένων σε σύνολα εκαπίδευσης και δοκιμών\n",
        "X_train, X_test, y_train, y_test = train_test_split(X, y, test_size=0.3, random_state=42)"
      ],
      "metadata": {
        "id": "dHq01iyWGUKY"
      },
      "execution_count": 241,
      "outputs": []
    },
    {
      "source": [
        "#δημιουργία διοχέτευσης (αγωγού) SMOTE για τις αριθμητικές μεταβλητές μόνο\n",
        "pipeline = ImbPipeline([\n",
        "    ('preprocessor', preprocessor),\n",
        "    ('smote', SMOTENC(random_state=42, categorical_features=[X.columns.get_loc(col) for col in categorical_features if col in X.columns])), # Check if column exists before getting location\n",
        "    ('classifier', RandomForestClassifier(random_state=42))\n",
        "])"
      ],
      "cell_type": "code",
      "metadata": {
        "id": "MSBgop8Vz11N"
      },
      "execution_count": 242,
      "outputs": []
    },
    {
      "cell_type": "code",
      "source": [
        "#καθορισμός κατωφλίου (threshold) για την διακοπή διακτυακής κίνησης\n",
        "blocking_threshold = 0.001"
      ],
      "metadata": {
        "id": "X7zgFQJ6GZc2"
      },
      "execution_count": 243,
      "outputs": []
    },
    {
      "cell_type": "code",
      "source": [
        "\n",
        "#δημιουργία βρόχου συνεχούς - αυξητικής μάθησης\n",
        "batch_size = 10000\n",
        "for epoch in range(1, 10):  #δυνατότητα αλλαγής των εποχών\n",
        "    for i in range(0, len(X_train), batch_size):\n",
        "        X_batch = X_train.iloc[i:i + batch_size]\n",
        "        y_batch = y_train.iloc[i:i + batch_size]\n"
      ],
      "metadata": {
        "id": "oTItcvh-Kqlz"
      },
      "execution_count": 244,
      "outputs": []
    },
    {
      "source": [
        "# Assuming 'categorical_features' is a list of column names defined earlier\n",
        "categorical_indices = [X_train.columns.get_loc(col) for col in categorical_features if col in X_train.columns] # Determine indices based on the entire training set\n",
        "\n",
        "pipeline = ImbPipeline([\n",
        "    ('preprocessor', preprocessor),\n",
        "    ('smote', SMOTENC(random_state=42, categorical_features=categorical_indices)), # Pass the pre-computed indices\n",
        "    ('classifier', RandomForestClassifier(random_state=42))\n",
        "])"
      ],
      "cell_type": "code",
      "metadata": {
        "id": "GbPsp_4XAjH9"
      },
      "execution_count": 245,
      "outputs": []
    },
    {
      "source": [
        "if i % batch_size == 1 and i > 0:\n",
        "            y_pred_proba = pipeline.predict_proba(X_test)[:, 1]\n",
        "            blocked_indices = np.where(y_pred_proba > blocking_threshold)[0] #\n",
        "            if len(blocked_indices) > 0:\n",
        "                print(f\"Blocking {len(blocked_indices)} malicious traffic instances.\") # Correct indentation"
      ],
      "cell_type": "code",
      "metadata": {
        "id": "4hRS_N7kGoxS"
      },
      "execution_count": 246,
      "outputs": []
    },
    {
      "source": [
        "if i % batch_size == 1 and i > 0:\n",
        "    y_pred_proba = pipeline.predict_proba(X_test)[:, 1]\n",
        "    blocked_indices = np.where(y_pred_proba > blocking_threshold)[0]\n",
        "    if len(blocked_indices) > 0:\n",
        "        print(f\"Blocking {len(blocked_indices)} malicious traffic instances.\")\n",
        "        X_test = X_test.drop(blocked_indices)\n",
        "        y_test = y_test.drop(blocked_indices)\n",
        "        print(\"Updated test set size:\", len(X_test))\n",
        "        pipeline.fit(X_train, y_train)\n",
        "        y_pred = pipeline.predict(X_test)\n",
        "        accuracy = accuracy_score(y_test, y_pred)\n",
        "        print(f\"Updated accuracy: {accuracy}\")\n",
        "        print(classification_report(y_test, y_pred))\n",
        "        print(\"--------------------------------------------------\")\n",
        "        print(\"Epoch:\", epoch, \"Batch:\", i // batch_size)\n",
        "        print(\"--------------------------------------------------\")\n",
        "\n",
        "\n",
        "\n",
        ""
      ],
      "cell_type": "code",
      "metadata": {
        "id": "Nf5UdWdZIlcK"
      },
      "execution_count": 247,
      "outputs": []
    }
  ]
}